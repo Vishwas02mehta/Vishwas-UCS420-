{
  "nbformat": 4,
  "nbformat_minor": 0,
  "metadata": {
    "colab": {
      "provenance": [],
      "authorship_tag": "ABX9TyOL97JDGAAHloYt2aS+/sTK",
      "include_colab_link": true
    },
    "kernelspec": {
      "name": "python3",
      "display_name": "Python 3"
    },
    "language_info": {
      "name": "python"
    }
  },
  "cells": [
    {
      "cell_type": "markdown",
      "metadata": {
        "id": "view-in-github",
        "colab_type": "text"
      },
      "source": [
        "<a href=\"https://colab.research.google.com/github/Vishwas02mehta/Vishwas-UCS420-/blob/main/assignment4q3.ipynb\" target=\"_parent\"><img src=\"https://colab.research.google.com/assets/colab-badge.svg\" alt=\"Open In Colab\"/></a>"
      ]
    },
    {
      "cell_type": "code",
      "execution_count": 9,
      "metadata": {
        "colab": {
          "base_uri": "https://localhost:8080/"
        },
        "id": "37DaFULL13p8",
        "outputId": "050a73ae-2c0c-40a7-a9af-bf89cd1bdb41"
      },
      "outputs": [
        {
          "output_type": "stream",
          "name": "stdout",
          "text": [
            "1st row, 2nd column: 20\n",
            "3rd row, 1st column: 70\n"
          ]
        }
      ],
      "source": [
        "import numpy as np\n",
        "\n",
        "arr = np.array([[10, 20, 30],\n",
        "                [40, 50, 60],\n",
        "                [70, 80, 90]])\n",
        "\n",
        "a = arr[0, 1]\n",
        "b = arr[2, 0]\n",
        "\n",
        "print(\"1st row, 2nd column:\", a)\n",
        "print(\"3rd row, 1st column:\", b)\n"
      ]
    }
  ]
}