{
  "nbformat": 4,
  "nbformat_minor": 0,
  "metadata": {
    "colab": {
      "provenance": [],
      "authorship_tag": "ABX9TyNeZRtIXwtF5EvQffqZuMWQ",
      "include_colab_link": true
    },
    "kernelspec": {
      "name": "python3",
      "display_name": "Python 3"
    },
    "language_info": {
      "name": "python"
    }
  },
  "cells": [
    {
      "cell_type": "markdown",
      "metadata": {
        "id": "view-in-github",
        "colab_type": "text"
      },
      "source": [
        "<a href=\"https://colab.research.google.com/github/Vishwas02mehta/Vishwas-UCS420-/blob/main/assignment1que6.ipynb\" target=\"_parent\"><img src=\"https://colab.research.google.com/assets/colab-badge.svg\" alt=\"Open In Colab\"/></a>"
      ]
    },
    {
      "cell_type": "code",
      "source": [
        "print(\"que 6\")\n",
        "def addOdd(n):\n",
        "  sum=0\n",
        "  for i in range(1,n+1):\n",
        "    if i%2!=0:\n",
        "      sum+=i\n",
        "  return sum\n",
        "n=int(input('Enter a number'))\n",
        "print('Sum of odd numbers',addOdd(n))\n",
        "\n",
        "\n",
        "\n",
        "\n",
        "\n",
        "print(\"que 6 part 2\")\n",
        "def addPrime(n):\n",
        "  sum=0\n",
        "  for i in range(2,n+1):\n",
        "    flag=True\n",
        "    for j in range(2,i):\n",
        "     if i%j==0:\n",
        "      flag=False\n",
        "    if flag:\n",
        "      sum+=i\n",
        "  return sum\n",
        "n=int(input('Enter a number'))\n",
        "print('Sum of primes=',addPrime(n))\n",
        ""
      ],
      "metadata": {
        "colab": {
          "base_uri": "https://localhost:8080/"
        },
        "id": "3R-RRZ4DT9F_",
        "outputId": "d98b642f-cc28-43cd-fc67-0e1b3db8f487"
      },
      "execution_count": 6,
      "outputs": [
        {
          "output_type": "stream",
          "name": "stdout",
          "text": [
            "que 6\n",
            "Enter a number2\n",
            "Sum of odd numbers 1\n",
            "que 6 part 2\n",
            "Enter a number5\n",
            "Sum of primes= 10\n"
          ]
        }
      ]
    }
  ]
}