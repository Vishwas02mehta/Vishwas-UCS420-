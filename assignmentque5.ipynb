{
  "nbformat": 4,
  "nbformat_minor": 0,
  "metadata": {
    "colab": {
      "provenance": [],
      "authorship_tag": "ABX9TyOw/9/8TeFzMEbnMXMzGTsg",
      "include_colab_link": true
    },
    "kernelspec": {
      "name": "python3",
      "display_name": "Python 3"
    },
    "language_info": {
      "name": "python"
    }
  },
  "cells": [
    {
      "cell_type": "markdown",
      "metadata": {
        "id": "view-in-github",
        "colab_type": "text"
      },
      "source": [
        "<a href=\"https://colab.research.google.com/github/Vishwas02mehta/Vishwas-UCS420-/blob/main/assignmentque5.ipynb\" target=\"_parent\"><img src=\"https://colab.research.google.com/assets/colab-badge.svg\" alt=\"Open In Colab\"/></a>"
      ]
    },
    {
      "cell_type": "code",
      "source": [
        "\n",
        "\n",
        "print(\"que 5\")\n",
        "a=int(input('Enter a number'))\n",
        "b=int(input('Enter a number'))\n",
        "c=int(input('Enter a number'))\n",
        "print(max(list((a,b,c))))\n",
        "\n",
        "\n",
        "\n",
        "\n",
        "\n",
        "print(\"part 2\")\n",
        "n=int(input('Enter a number'))\n",
        "sum=0\n",
        "for i in range(1,n+1):\n",
        "  if i%7==0 and i%9==0:\n",
        "    sum+=i\n",
        "print(sum)\n",
        "\n",
        "\n",
        "\n",
        "\n",
        "\n",
        "\n",
        "\n",
        "\n",
        "print(\"part 3\")\n",
        "\n",
        "n=int(input('Enter a number'))\n",
        "sum=0\n",
        "for i in range(2,n+1):\n",
        "  flag=True\n",
        "  for j in range(2,i):\n",
        "    if i%j==0:\n",
        "      flag=False\n",
        "  if flag:\n",
        "    sum+=i\n",
        "print('Sum of primes=',sum)\n",
        "\n",
        "\n",
        "\n",
        "\n",
        "print(\"part 3\")\n",
        "n=input('Enter the number')\n",
        "n=int(n)\n",
        "res=0\n",
        "for i in range(1,n+1):\n",
        "  res+=i\n",
        "print('Sum =',res)\n"
      ],
      "metadata": {
        "colab": {
          "base_uri": "https://localhost:8080/"
        },
        "id": "3R-RRZ4DT9F_",
        "outputId": "971530d6-c6cd-4364-f250-a8d6dbac516f"
      },
      "execution_count": 5,
      "outputs": [
        {
          "output_type": "stream",
          "name": "stdout",
          "text": [
            "que 5\n",
            "Enter a number4\n",
            "Enter a number2\n",
            "Enter a number4\n",
            "4\n",
            "part 2\n",
            "Enter a number2\n",
            "0\n",
            "part 3\n",
            "Enter a number4\n",
            "Sum of primes= 5\n",
            "part 3\n",
            "Enter the number5\n",
            "Sum = 15\n"
          ]
        }
      ]
    }
  ]
}