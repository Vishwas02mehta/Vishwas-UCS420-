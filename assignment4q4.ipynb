{
  "nbformat": 4,
  "nbformat_minor": 0,
  "metadata": {
    "colab": {
      "provenance": [],
      "authorship_tag": "ABX9TyO+nDLcxyMBC3AenrSMxVUV",
      "include_colab_link": true
    },
    "kernelspec": {
      "name": "python3",
      "display_name": "Python 3"
    },
    "language_info": {
      "name": "python"
    }
  },
  "cells": [
    {
      "cell_type": "markdown",
      "metadata": {
        "id": "view-in-github",
        "colab_type": "text"
      },
      "source": [
        "<a href=\"https://colab.research.google.com/github/Vishwas02mehta/Vishwas-UCS420-/blob/main/assignment4q4.ipynb\" target=\"_parent\"><img src=\"https://colab.research.google.com/assets/colab-badge.svg\" alt=\"Open In Colab\"/></a>"
      ]
    },
    {
      "cell_type": "code",
      "execution_count": 10,
      "metadata": {
        "colab": {
          "base_uri": "https://localhost:8080/"
        },
        "id": "37DaFULL13p8",
        "outputId": "4ca9ba06-9700-4af7-9767-490ac7f59d5c"
      },
      "outputs": [
        {
          "output_type": "stream",
          "name": "stdout",
          "text": [
            "Array: [ 10.    13.75  17.5   21.25  25.    28.75  32.5   36.25  40.    43.75\n",
            "  47.5   51.25  55.    58.75  62.5   66.25  70.    73.75  77.5   81.25\n",
            "  85.    88.75  92.5   96.25 100.  ]\n",
            "Dimensions: 1\n",
            "Shape: (25,)\n",
            "Total Elements: 25\n",
            "Data Type: float64\n",
            "Total Bytes Consumed: 200\n",
            "Transposed using reshape():\n",
            " [[ 10.  ]\n",
            " [ 13.75]\n",
            " [ 17.5 ]\n",
            " [ 21.25]\n",
            " [ 25.  ]\n",
            " [ 28.75]\n",
            " [ 32.5 ]\n",
            " [ 36.25]\n",
            " [ 40.  ]\n",
            " [ 43.75]\n",
            " [ 47.5 ]\n",
            " [ 51.25]\n",
            " [ 55.  ]\n",
            " [ 58.75]\n",
            " [ 62.5 ]\n",
            " [ 66.25]\n",
            " [ 70.  ]\n",
            " [ 73.75]\n",
            " [ 77.5 ]\n",
            " [ 81.25]\n",
            " [ 85.  ]\n",
            " [ 88.75]\n",
            " [ 92.5 ]\n",
            " [ 96.25]\n",
            " [100.  ]]\n",
            "Transposed using T attribute:\n",
            " [ 10.    13.75  17.5   21.25  25.    28.75  32.5   36.25  40.    43.75\n",
            "  47.5   51.25  55.    58.75  62.5   66.25  70.    73.75  77.5   81.25\n",
            "  85.    88.75  92.5   96.25 100.  ]\n",
            "Can we use T attribute for 1D array? False\n"
          ]
        }
      ],
      "source": [
        "import numpy as np\n",
        "\n",
        "MyName = np.linspace(10, 100, 25)\n",
        "\n",
        "print(\"Array:\", MyName)\n",
        "print(\"Dimensions:\", MyName.ndim)\n",
        "print(\"Shape:\", MyName.shape)\n",
        "print(\"Total Elements:\", MyName.size)\n",
        "print(\"Data Type:\", MyName.dtype)\n",
        "print(\"Total Bytes Consumed:\", MyName.nbytes)\n",
        "\n",
        "transposed_array = MyName.reshape(25, 1)\n",
        "print(\"Transposed using reshape():\\n\", transposed_array)\n",
        "\n",
        "T_transpose = MyName.T\n",
        "print(\"Transposed using T attribute:\\n\", T_transpose)\n",
        "\n",
        "# Checking if both methods give the same result\n",
        "print(\"Can we use T attribute for 1D array?\", np.array_equal(transposed_array, T_transpose))"
      ]
    }
  ]
}