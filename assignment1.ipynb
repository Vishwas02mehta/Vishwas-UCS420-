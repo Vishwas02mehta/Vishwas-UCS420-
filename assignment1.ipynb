{
  "nbformat": 4,
  "nbformat_minor": 0,
  "metadata": {
    "colab": {
      "provenance": [],
      "authorship_tag": "ABX9TyOJFPDLcp0SZEYLprrWWN6q",
      "include_colab_link": true
    },
    "kernelspec": {
      "name": "python3",
      "display_name": "Python 3"
    },
    "language_info": {
      "name": "python"
    }
  },
  "cells": [
    {
      "cell_type": "markdown",
      "metadata": {
        "id": "view-in-github",
        "colab_type": "text"
      },
      "source": [
        "<a href=\"https://colab.research.google.com/github/Vishwas02mehta/Vishwas-UCS420-/blob/main/assignment1.ipynb\" target=\"_parent\"><img src=\"https://colab.research.google.com/assets/colab-badge.svg\" alt=\"Open In Colab\"/></a>"
      ]
    },
    {
      "cell_type": "code",
      "execution_count": 1,
      "metadata": {
        "colab": {
          "base_uri": "https://localhost:8080/"
        },
        "id": "3ZuhFZOuS3Qz",
        "outputId": "920b219c-772c-4a90-c74c-52e816345680"
      },
      "outputs": [
        {
          "output_type": "stream",
          "name": "stdout",
          "text": [
            "que 1\n",
            "Vishwas\n",
            "Vishwas\n",
            "Vishwas\n"
          ]
        }
      ],
      "source": [
        "print(\"que 1\")\n",
        "for i in range(0,3):\n",
        "  print('Vishwas')"
      ]
    }
  ]
}