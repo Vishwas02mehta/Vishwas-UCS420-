{
  "nbformat": 4,
  "nbformat_minor": 0,
  "metadata": {
    "colab": {
      "provenance": [],
      "authorship_tag": "ABX9TyNkraIIHh9dS/8S8O3SU+DR",
      "include_colab_link": true
    },
    "kernelspec": {
      "name": "python3",
      "display_name": "Python 3"
    },
    "language_info": {
      "name": "python"
    }
  },
  "cells": [
    {
      "cell_type": "markdown",
      "metadata": {
        "id": "view-in-github",
        "colab_type": "text"
      },
      "source": [
        "<a href=\"https://colab.research.google.com/github/Vishwas02mehta/Vishwas-UCS420-/blob/main/assignment4q1.ipynb\" target=\"_parent\"><img src=\"https://colab.research.google.com/assets/colab-badge.svg\" alt=\"Open In Colab\"/></a>"
      ]
    },
    {
      "cell_type": "code",
      "execution_count": 2,
      "metadata": {
        "colab": {
          "base_uri": "https://localhost:8080/"
        },
        "id": "37DaFULL13p8",
        "outputId": "5a1a1292-305d-4d63-ef92-546c0aa44b12"
      },
      "outputs": [
        {
          "output_type": "stream",
          "name": "stdout",
          "text": [
            "Original Array: [10 20 30 40 50]\n",
            "After Adding 2: [12 22 32 42 52]\n",
            "After Multiplying by 3: [ 30  60  90 120 150]\n",
            "After Dividing by 2: [ 5. 10. 15. 20. 25.]\n"
          ]
        }
      ],
      "source": [
        "\n",
        "import numpy as np\n",
        "\n",
        "arr = np.array([10, 20, 30, 40, 50])\n",
        "\n",
        "add_result = arr + 2\n",
        "multiply_result = arr * 3\n",
        "divide_result = arr / 2\n",
        "\n",
        "print(\"Original Array:\", arr)\n",
        "print(\"After Adding 2:\", add_result)\n",
        "print(\"After Multiplying by 3:\", multiply_result)\n",
        "print(\"After Dividing by 2:\", divide_result)"
      ]
    }
  ]
}