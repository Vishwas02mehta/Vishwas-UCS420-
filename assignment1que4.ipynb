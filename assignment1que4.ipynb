{
  "nbformat": 4,
  "nbformat_minor": 0,
  "metadata": {
    "colab": {
      "provenance": [],
      "authorship_tag": "ABX9TyM39sw0/0TF9lKEPAUGhfsb",
      "include_colab_link": true
    },
    "kernelspec": {
      "name": "python3",
      "display_name": "Python 3"
    },
    "language_info": {
      "name": "python"
    }
  },
  "cells": [
    {
      "cell_type": "markdown",
      "metadata": {
        "id": "view-in-github",
        "colab_type": "text"
      },
      "source": [
        "<a href=\"https://colab.research.google.com/github/Vishwas02mehta/Vishwas-UCS420-/blob/main/assignment1que4.ipynb\" target=\"_parent\"><img src=\"https://colab.research.google.com/assets/colab-badge.svg\" alt=\"Open In Colab\"/></a>"
      ]
    },
    {
      "cell_type": "code",
      "source": [
        "print(\"que 4\")\n",
        "for i in range(1,11):\n",
        "  print('7 *',i,'=',7*i)\n",
        "print()\n",
        "for i in range(1,11):\n",
        "  print('9 *',i,'=',9*i)\n",
        "\n",
        "\n",
        "print(\"part 2\")\n",
        "n=input('Enter the number')\n",
        "n=int(n)\n",
        "# the input func gives string as output so we have to typecast it to int\n",
        "for i in range(1,11):\n",
        "  print(n,'*',i,'=',n*i)\n",
        "\n",
        "\n",
        "\n",
        "\n",
        "\n",
        "\n",
        "print(\"part 3\")\n",
        "n=input('Enter the number')\n",
        "n=int(n)\n",
        "res=0\n",
        "for i in range(1,n+1):\n",
        "  res+=i\n",
        "print('Sum =',res)\n"
      ],
      "metadata": {
        "colab": {
          "base_uri": "https://localhost:8080/"
        },
        "id": "3R-RRZ4DT9F_",
        "outputId": "d2bcb12d-2f4d-4d10-ddb1-36a692c0c877"
      },
      "execution_count": null,
      "outputs": [
        {
          "output_type": "stream",
          "name": "stdout",
          "text": [
            "que 4\n",
            "7 * 1 = 7\n",
            "7 * 2 = 14\n",
            "7 * 3 = 21\n",
            "7 * 4 = 28\n",
            "7 * 5 = 35\n",
            "7 * 6 = 42\n",
            "7 * 7 = 49\n",
            "7 * 8 = 56\n",
            "7 * 9 = 63\n",
            "7 * 10 = 70\n",
            "\n",
            "9 * 1 = 9\n",
            "9 * 2 = 18\n",
            "9 * 3 = 27\n",
            "9 * 4 = 36\n",
            "9 * 5 = 45\n",
            "9 * 6 = 54\n",
            "9 * 7 = 63\n",
            "9 * 8 = 72\n",
            "9 * 9 = 81\n",
            "9 * 10 = 90\n",
            "part 2\n",
            "Enter the number3\n",
            "3 * 1 = 3\n",
            "3 * 2 = 6\n",
            "3 * 3 = 9\n",
            "3 * 4 = 12\n",
            "3 * 5 = 15\n",
            "3 * 6 = 18\n",
            "3 * 7 = 21\n",
            "3 * 8 = 24\n",
            "3 * 9 = 27\n",
            "3 * 10 = 30\n",
            "part 3\n"
          ]
        }
      ]
    }
  ]
}